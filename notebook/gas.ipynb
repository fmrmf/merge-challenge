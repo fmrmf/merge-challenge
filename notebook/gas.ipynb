{
 "cells": [
  {
   "cell_type": "code",
   "execution_count": 2,
   "id": "06b02125",
   "metadata": {},
   "outputs": [],
   "source": [
    "import numpy as np\n",
    "import pandas as pd\n",
    "import typing as tp\n",
    "from ape import accounts, chain, Contract, networks"
   ]
  },
  {
   "cell_type": "code",
   "execution_count": 3,
   "id": "0ae9771f",
   "metadata": {},
   "outputs": [
    {
     "data": {
      "text/plain": [
       "<alchemy chain_id=1>"
      ]
     },
     "execution_count": 3,
     "metadata": {},
     "output_type": "execute_result"
    }
   ],
   "source": [
    "# SEE: https://gist.github.com/banteg/dcf6082ff7fc6ad51ce220146f29d9ff\n",
    "networks.parse_network_choice('ethereum:mainnet:alchemy').__enter__()"
   ]
  },
  {
   "cell_type": "code",
   "execution_count": 58,
   "id": "0da5becc",
   "metadata": {},
   "outputs": [
    {
     "data": {
      "text/plain": [
       "Block(num_transactions=201, hash=HexBytes('0x390f8608cff6667c959bd0a2747ba30df9da472e678e0b5292aa0c9da7432a73'), number=15754050, parent_hash=HexBytes('0x360820bb06cd1d5cd8094cf12eced95eefeea8a3d02c1b09f850e0d534603c08'), size=89395, timestamp=1665843335, gas_limit=30000000, gas_used=17248926, base_fee=13934640309, difficulty=0, total_difficulty=58750003716598352816469)"
      ]
     },
     "execution_count": 58,
     "metadata": {},
     "output_type": "execute_result"
    }
   ],
   "source": [
    "# PREP: look at the current block\n",
    "current_block = chain.blocks[-1]\n",
    "current_block"
   ]
  },
  {
   "cell_type": "code",
   "execution_count": 59,
   "id": "b6e54e8a",
   "metadata": {},
   "outputs": [],
   "source": [
    "# some relevant numbers\n",
    "start_block_number = 15338009 # ~1 month before merge\n",
    "merge_block_number = 15537393\n",
    "current_block_number = current_block.number"
   ]
  },
  {
   "cell_type": "code",
   "execution_count": 60,
   "id": "19ce980d",
   "metadata": {},
   "outputs": [
    {
     "name": "stdout",
     "output_type": "stream",
     "text": [
      "num txs in block: 201\n"
     ]
    }
   ],
   "source": [
    "# PREP: get txs in current block\n",
    "print('num txs in block:', len(current_block.transactions))"
   ]
  },
  {
   "cell_type": "code",
   "execution_count": 65,
   "id": "e9ac4abc",
   "metadata": {},
   "outputs": [
    {
     "data": {
      "text/plain": [
       "<DynamicFeeTransaction chainId=1, to=0x56D5B9Aa337C0a57598E9d4004584805cf8271B8, from=0x0D957354C5fD457d689D7A0c84Cd55aA0670108B, gas=79419, nonce=117, value=0, data=b'0xa694fc3a0000000000000000000000000000000000000000000000000000000000000391', type=0x02, maxFeePerGas=350000000000, maxPriorityFeePerGas=100000000000, accessList=[]>"
      ]
     },
     "execution_count": 65,
     "metadata": {},
     "output_type": "execute_result"
    }
   ],
   "source": [
    "# check out an EIP1559 tx in list of tx within this block\n",
    "tx_dynamic_fee = current_block.transactions[0]\n",
    "tx_dynamic_fee"
   ]
  },
  {
   "cell_type": "code",
   "execution_count": 66,
   "id": "c5077c0a",
   "metadata": {},
   "outputs": [
    {
     "name": "stdout",
     "output_type": "stream",
     "text": [
      "max fee: 350000000000\n",
      "max priority fee: 100000000000\n",
      "gas limit: 79419\n",
      "signature: <TransactionSignature v=1 r=16e7fa6853b648ce10a876ca8e5f80648f11d1c1cf69ec3b3208f7a14a914a02 s=4ccfa30d76e8935bf259509162362a8bd31b0d9d90dca0e5f4d55d16e5325b8c>\n"
     ]
    }
   ],
   "source": [
    "print('max fee:', tx_dynamic_fee.max_fee)\n",
    "print('max priority fee:', tx_dynamic_fee.max_priority_fee)\n",
    "print('gas limit:', tx_dynamic_fee.gas_limit)\n",
    "print('signature:', tx.signature)"
   ]
  },
  {
   "cell_type": "code",
   "execution_count": null,
   "id": "a5160f2c",
   "metadata": {},
   "outputs": [],
   "source": [
    "# TODO: os.path for csv doesn't already exist, then do the query\n",
    "# get blocks over last 2 months (since mid Aug to mid October)\n",
    "%time query_blocks = chain.blocks.query('*', start_block=start_block_number)"
   ]
  },
  {
   "cell_type": "code",
   "execution_count": null,
   "id": "3cb47c6c",
   "metadata": {},
   "outputs": [],
   "source": [
    "# save to csv so don't have to query again\n",
    "query_blocks.to_csv('./data/blocks.csv', index=False)"
   ]
  },
  {
   "cell_type": "code",
   "execution_count": null,
   "id": "80dc0e57",
   "metadata": {},
   "outputs": [],
   "source": [
    "# TODO: get txs in each block over last 2 months (since mid Aug to mid October)"
   ]
  },
  {
   "cell_type": "code",
   "execution_count": null,
   "id": "e7ccf781",
   "metadata": {},
   "outputs": [],
   "source": []
  }
 ],
 "metadata": {
  "kernelspec": {
   "display_name": "Python 3 (ipykernel)",
   "language": "python",
   "name": "python3"
  },
  "language_info": {
   "codemirror_mode": {
    "name": "ipython",
    "version": 3
   },
   "file_extension": ".py",
   "mimetype": "text/x-python",
   "name": "python",
   "nbconvert_exporter": "python",
   "pygments_lexer": "ipython3",
   "version": "3.10.6"
  }
 },
 "nbformat": 4,
 "nbformat_minor": 5
}
