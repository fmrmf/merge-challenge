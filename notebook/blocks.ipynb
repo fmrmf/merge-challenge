{
 "cells": [
  {
   "cell_type": "code",
   "execution_count": 70,
   "id": "ead9fd58",
   "metadata": {},
   "outputs": [],
   "source": [
    "\"\"\"\n",
    "blocks.ipynb\n",
    "\n",
    "Goal with this notebook is to analyze the impact of transitioning\n",
    "from variable to fixed block times after the merge.\n",
    "\n",
    "Towards the end of the notebook, there's a heavy focus on the impact of\n",
    "this transition on the gas market.\n",
    "\n",
    "TODO: Get data on block building process and whether portions of now fixed block time interval are more valuable.\n",
    "\"\"\"\n",
    "\n",
    "import os\n",
    "import numpy as np\n",
    "import pandas as pd\n",
    "import typing as tp\n",
    "from ape import accounts, chain, Contract, networks"
   ]
  },
  {
   "cell_type": "code",
   "execution_count": 3,
   "id": "0f662df4",
   "metadata": {},
   "outputs": [
    {
     "data": {
      "text/plain": [
       "<alchemy chain_id=1>"
      ]
     },
     "execution_count": 3,
     "metadata": {},
     "output_type": "execute_result"
    }
   ],
   "source": [
    "# SEE: https://gist.github.com/banteg/dcf6082ff7fc6ad51ce220146f29d9ff\n",
    "networks.parse_network_choice('ethereum:mainnet:alchemy').__enter__()"
   ]
  },
  {
   "cell_type": "code",
   "execution_count": 58,
   "id": "db720ea0",
   "metadata": {},
   "outputs": [
    {
     "data": {
      "text/plain": [
       "Block(num_transactions=201, hash=HexBytes('0x390f8608cff6667c959bd0a2747ba30df9da472e678e0b5292aa0c9da7432a73'), number=15754050, parent_hash=HexBytes('0x360820bb06cd1d5cd8094cf12eced95eefeea8a3d02c1b09f850e0d534603c08'), size=89395, timestamp=1665843335, gas_limit=30000000, gas_used=17248926, base_fee=13934640309, difficulty=0, total_difficulty=58750003716598352816469)"
      ]
     },
     "execution_count": 58,
     "metadata": {},
     "output_type": "execute_result"
    }
   ],
   "source": [
    "# PREP: look at the current block\n",
    "current_block = chain.blocks[-1]\n",
    "current_block"
   ]
  },
  {
   "cell_type": "code",
   "execution_count": 59,
   "id": "5ba88fb7",
   "metadata": {},
   "outputs": [],
   "source": [
    "# some relevant numbers\n",
    "start_block_number = 15338009 # ~1 month before merge\n",
    "merge_block_number = 15537393\n",
    "current_block_number = current_block.number"
   ]
  },
  {
   "cell_type": "code",
   "execution_count": 60,
   "id": "bc07426a",
   "metadata": {},
   "outputs": [
    {
     "name": "stdout",
     "output_type": "stream",
     "text": [
      "num txs in block: 201\n"
     ]
    }
   ],
   "source": [
    "# PREP: get txs in current block\n",
    "print('num txs in block:', len(current_block.transactions))"
   ]
  },
  {
   "cell_type": "code",
   "execution_count": 65,
   "id": "5e89bd69",
   "metadata": {},
   "outputs": [
    {
     "data": {
      "text/plain": [
       "<DynamicFeeTransaction chainId=1, to=0x56D5B9Aa337C0a57598E9d4004584805cf8271B8, from=0x0D957354C5fD457d689D7A0c84Cd55aA0670108B, gas=79419, nonce=117, value=0, data=b'0xa694fc3a0000000000000000000000000000000000000000000000000000000000000391', type=0x02, maxFeePerGas=350000000000, maxPriorityFeePerGas=100000000000, accessList=[]>"
      ]
     },
     "execution_count": 65,
     "metadata": {},
     "output_type": "execute_result"
    }
   ],
   "source": [
    "# check out an EIP1559 tx in list of tx within this block\n",
    "tx_dynamic_fee = current_block.transactions[0]\n",
    "tx_dynamic_fee"
   ]
  },
  {
   "cell_type": "code",
   "execution_count": 66,
   "id": "c3e68766",
   "metadata": {
    "scrolled": true
   },
   "outputs": [
    {
     "name": "stdout",
     "output_type": "stream",
     "text": [
      "max fee: 350000000000\n",
      "max priority fee: 100000000000\n",
      "gas limit: 79419\n",
      "signature: <TransactionSignature v=1 r=16e7fa6853b648ce10a876ca8e5f80648f11d1c1cf69ec3b3208f7a14a914a02 s=4ccfa30d76e8935bf259509162362a8bd31b0d9d90dca0e5f4d55d16e5325b8c>\n"
     ]
    }
   ],
   "source": [
    "print('max fee:', tx_dynamic_fee.max_fee)\n",
    "print('max priority fee:', tx_dynamic_fee.max_priority_fee)\n",
    "print('gas limit:', tx_dynamic_fee.gas_limit)\n",
    "print('signature:', tx.signature)"
   ]
  },
  {
   "cell_type": "code",
   "execution_count": 73,
   "id": "e89d831e",
   "metadata": {},
   "outputs": [],
   "source": [
    "# load from csv if already queried, else do the query and save in csv\n",
    "def load_blocks() -> pd.DataFrame:\n",
    "    if os.path.exists('./data/blocks.csv'):\n",
    "        return pd.read_csv('./data/blocks.csv')\n",
    "    else:\n",
    "        qb = chain.blocks.query('*', start_block=start_block_number)\n",
    "        qb.to_csv('./data/blocks.csv', index=False)\n",
    "        return qb"
   ]
  },
  {
   "cell_type": "code",
   "execution_count": 67,
   "id": "58c00b05",
   "metadata": {},
   "outputs": [
    {
     "name": "stdout",
     "output_type": "stream",
     "text": [
      "CPU times: user 1h 23min 20s, sys: 4min 20s, total: 1h 27min 40s\n",
      "Wall time: 15h 23s\n"
     ]
    }
   ],
   "source": [
    "# get blocks over last 2 months (since mid Aug to mid October)\n",
    "# %time query_blocks = chain.blocks.query('*', start_block=start_block_number)"
   ]
  },
  {
   "cell_type": "code",
   "execution_count": 69,
   "id": "1d850ce3",
   "metadata": {},
   "outputs": [],
   "source": [
    "# save to csv so don't have to query again\n",
    "# query_blocks.to_csv('./data/blocks.csv', index=False)"
   ]
  },
  {
   "cell_type": "code",
   "execution_count": 75,
   "id": "a7f5c60b",
   "metadata": {},
   "outputs": [
    {
     "name": "stdout",
     "output_type": "stream",
     "text": [
      "CPU times: user 889 ms, sys: 73.1 ms, total: 962 ms\n",
      "Wall time: 966 ms\n"
     ]
    }
   ],
   "source": [
    "%time qb = load_blocks()"
   ]
  },
  {
   "cell_type": "code",
   "execution_count": 76,
   "id": "e1beeccb",
   "metadata": {},
   "outputs": [
    {
     "data": {
      "text/html": [
       "<div>\n",
       "<style scoped>\n",
       "    .dataframe tbody tr th:only-of-type {\n",
       "        vertical-align: middle;\n",
       "    }\n",
       "\n",
       "    .dataframe tbody tr th {\n",
       "        vertical-align: top;\n",
       "    }\n",
       "\n",
       "    .dataframe thead th {\n",
       "        text-align: right;\n",
       "    }\n",
       "</style>\n",
       "<table border=\"1\" class=\"dataframe\">\n",
       "  <thead>\n",
       "    <tr style=\"text-align: right;\">\n",
       "      <th></th>\n",
       "      <th>num_transactions</th>\n",
       "      <th>hash</th>\n",
       "      <th>number</th>\n",
       "      <th>parent_hash</th>\n",
       "      <th>size</th>\n",
       "      <th>timestamp</th>\n",
       "      <th>gas_limit</th>\n",
       "      <th>gas_used</th>\n",
       "      <th>base_fee</th>\n",
       "      <th>difficulty</th>\n",
       "      <th>total_difficulty</th>\n",
       "    </tr>\n",
       "  </thead>\n",
       "  <tbody>\n",
       "    <tr>\n",
       "      <th>0</th>\n",
       "      <td>97</td>\n",
       "      <td>b'\\xf0\\x82\\x95\\x1e@\\xe4by\\xfc,\\x15\\xd6\\xb6xFw\\...</td>\n",
       "      <td>15338009</td>\n",
       "      <td>b'm\\xb0\\x02|\\xa9}\\x84\\xa3\\xdd\\xc1\\x84\\xb6\\xe4\\...</td>\n",
       "      <td>39308</td>\n",
       "      <td>1660456780</td>\n",
       "      <td>30000000</td>\n",
       "      <td>9954560</td>\n",
       "      <td>8122412901</td>\n",
       "      <td>12045723921070914</td>\n",
       "      <td>56321843715293942409414</td>\n",
       "    </tr>\n",
       "    <tr>\n",
       "      <th>1</th>\n",
       "      <td>305</td>\n",
       "      <td>b'\\xdb\\x91:\\xfc8Qk\\xc1c\\x82\\xe2\\xdbA\\xe9b#R\\xe...</td>\n",
       "      <td>15338010</td>\n",
       "      <td>b'\\xf0\\x82\\x95\\x1e@\\xe4by\\xfc,\\x15\\xd6\\xb6xFw\\...</td>\n",
       "      <td>99210</td>\n",
       "      <td>1660456787</td>\n",
       "      <td>30000000</td>\n",
       "      <td>22464133</td>\n",
       "      <td>7780903344</td>\n",
       "      <td>12051743061157721</td>\n",
       "      <td>56321855767037003567135</td>\n",
       "    </tr>\n",
       "    <tr>\n",
       "      <th>2</th>\n",
       "      <td>51</td>\n",
       "      <td>b'\\xb0\\x0c2\\x7f$\\xc0\\xec$i\\xbf\\xd9\\xcb\\x13\\x0c...</td>\n",
       "      <td>15338011</td>\n",
       "      <td>b'\\xdb\\x91:\\xfc8Qk\\xc1c\\x82\\xe2\\xdbA\\xe9b#R\\xe...</td>\n",
       "      <td>13806</td>\n",
       "      <td>1660456811</td>\n",
       "      <td>30000000</td>\n",
       "      <td>3781159</td>\n",
       "      <td>8264884155</td>\n",
       "      <td>12045995859944613</td>\n",
       "      <td>56321867813032863511748</td>\n",
       "    </tr>\n",
       "    <tr>\n",
       "      <th>3</th>\n",
       "      <td>24</td>\n",
       "      <td>b\"0\\xbc\\xf0\\xa6\\x89\\xf1w\\x1d\\x9d\\x05\\x1c\\xc8\\x...</td>\n",
       "      <td>15338012</td>\n",
       "      <td>b'\\xb0\\x0c2\\x7f$\\xc0\\xec$i\\xbf\\xd9\\xcb\\x13\\x0c...</td>\n",
       "      <td>7824</td>\n",
       "      <td>1660456814</td>\n",
       "      <td>29970705</td>\n",
       "      <td>1551283</td>\n",
       "      <td>7492197312</td>\n",
       "      <td>12057896966730061</td>\n",
       "      <td>56321879870929830241809</td>\n",
       "    </tr>\n",
       "    <tr>\n",
       "      <th>4</th>\n",
       "      <td>63</td>\n",
       "      <td>b'`/\\xd0\\xe0\\x7fvc&gt;\\x94\\xf2\\xd1\\xca\\xbf\\x11\\x9...</td>\n",
       "      <td>15338013</td>\n",
       "      <td>b\"0\\xbc\\xf0\\xa6\\x89\\xf1w\\x1d\\x9d\\x05\\x1c\\xc8\\x...</td>\n",
       "      <td>16003</td>\n",
       "      <td>1660456819</td>\n",
       "      <td>29941438</td>\n",
       "      <td>3174533</td>\n",
       "      <td>6652621642</td>\n",
       "      <td>12063922050686819</td>\n",
       "      <td>56321891934851880928628</td>\n",
       "    </tr>\n",
       "    <tr>\n",
       "      <th>...</th>\n",
       "      <td>...</td>\n",
       "      <td>...</td>\n",
       "      <td>...</td>\n",
       "      <td>...</td>\n",
       "      <td>...</td>\n",
       "      <td>...</td>\n",
       "      <td>...</td>\n",
       "      <td>...</td>\n",
       "      <td>...</td>\n",
       "      <td>...</td>\n",
       "      <td>...</td>\n",
       "    </tr>\n",
       "    <tr>\n",
       "      <th>416045</th>\n",
       "      <td>189</td>\n",
       "      <td>b'\\xecP\\xf7g\\x08\\xc2\\x19\\x12_\\x0c\\xd8X\\x92\\x9b...</td>\n",
       "      <td>15754054</td>\n",
       "      <td>b'\\x12Y[\\x91y.\\xb8\\xcf\\xd7\\xca\\xb5\\x81\\x87\\x82...</td>\n",
       "      <td>82178</td>\n",
       "      <td>1665843383</td>\n",
       "      <td>30000000</td>\n",
       "      <td>18028304</td>\n",
       "      <td>14001417244</td>\n",
       "      <td>0</td>\n",
       "      <td>58750003716598352816469</td>\n",
       "    </tr>\n",
       "    <tr>\n",
       "      <th>416046</th>\n",
       "      <td>253</td>\n",
       "      <td>b'n\\xf2R{ \\xa9t\\xabUD\\xbc\\x8e\\x04B\\x87\\xb3\\t\\x...</td>\n",
       "      <td>15754055</td>\n",
       "      <td>b'\\xecP\\xf7g\\x08\\xc2\\x19\\x12_\\x0c\\xd8X\\x92\\x9b...</td>\n",
       "      <td>159816</td>\n",
       "      <td>1665843395</td>\n",
       "      <td>30000000</td>\n",
       "      <td>29936690</td>\n",
       "      <td>14354755142</td>\n",
       "      <td>0</td>\n",
       "      <td>58750003716598352816469</td>\n",
       "    </tr>\n",
       "    <tr>\n",
       "      <th>416047</th>\n",
       "      <td>137</td>\n",
       "      <td>b'\\xb7\\x06\\xba9s\\x7f&gt;p\\xd1\\xa3\\x16\\xb0)Y\\n\\xd4...</td>\n",
       "      <td>15754056</td>\n",
       "      <td>b'n\\xf2R{ \\xa9t\\xabUD\\xbc\\x8e\\x04B\\x87\\xb3\\t\\x...</td>\n",
       "      <td>71368</td>\n",
       "      <td>1665843407</td>\n",
       "      <td>30000000</td>\n",
       "      <td>14425421</td>\n",
       "      <td>16141526205</td>\n",
       "      <td>0</td>\n",
       "      <td>58750003716598352816469</td>\n",
       "    </tr>\n",
       "    <tr>\n",
       "      <th>416048</th>\n",
       "      <td>117</td>\n",
       "      <td>b'\\x86\\xd9n\\xfb+\\x9e\\n\\xbc\\xb3\\x99\\x155@\\xbb\\x...</td>\n",
       "      <td>15754057</td>\n",
       "      <td>b'\\xb7\\x06\\xba9s\\x7f&gt;p\\xd1\\xa3\\x16\\xb0)Y\\n\\xd4...</td>\n",
       "      <td>56671</td>\n",
       "      <td>1665843419</td>\n",
       "      <td>30000000</td>\n",
       "      <td>11198548</td>\n",
       "      <td>16064238022</td>\n",
       "      <td>0</td>\n",
       "      <td>58750003716598352816469</td>\n",
       "    </tr>\n",
       "    <tr>\n",
       "      <th>416049</th>\n",
       "      <td>132</td>\n",
       "      <td>b'\\xb4G\\x9e\\xa6\\xa0\\x18\\x8d\\xee\\xb0\\x15\\x9faK\\...</td>\n",
       "      <td>15754058</td>\n",
       "      <td>b'\\x86\\xd9n\\xfb+\\x9e\\n\\xbc\\xb3\\x99\\x155@\\xbb\\x...</td>\n",
       "      <td>56908</td>\n",
       "      <td>1665843431</td>\n",
       "      <td>30000000</td>\n",
       "      <td>10183036</td>\n",
       "      <td>15555342775</td>\n",
       "      <td>0</td>\n",
       "      <td>58750003716598352816469</td>\n",
       "    </tr>\n",
       "  </tbody>\n",
       "</table>\n",
       "<p>416050 rows × 11 columns</p>\n",
       "</div>"
      ],
      "text/plain": [
       "        num_transactions                                               hash  \\\n",
       "0                     97  b'\\xf0\\x82\\x95\\x1e@\\xe4by\\xfc,\\x15\\xd6\\xb6xFw\\...   \n",
       "1                    305  b'\\xdb\\x91:\\xfc8Qk\\xc1c\\x82\\xe2\\xdbA\\xe9b#R\\xe...   \n",
       "2                     51  b'\\xb0\\x0c2\\x7f$\\xc0\\xec$i\\xbf\\xd9\\xcb\\x13\\x0c...   \n",
       "3                     24  b\"0\\xbc\\xf0\\xa6\\x89\\xf1w\\x1d\\x9d\\x05\\x1c\\xc8\\x...   \n",
       "4                     63  b'`/\\xd0\\xe0\\x7fvc>\\x94\\xf2\\xd1\\xca\\xbf\\x11\\x9...   \n",
       "...                  ...                                                ...   \n",
       "416045               189  b'\\xecP\\xf7g\\x08\\xc2\\x19\\x12_\\x0c\\xd8X\\x92\\x9b...   \n",
       "416046               253  b'n\\xf2R{ \\xa9t\\xabUD\\xbc\\x8e\\x04B\\x87\\xb3\\t\\x...   \n",
       "416047               137  b'\\xb7\\x06\\xba9s\\x7f>p\\xd1\\xa3\\x16\\xb0)Y\\n\\xd4...   \n",
       "416048               117  b'\\x86\\xd9n\\xfb+\\x9e\\n\\xbc\\xb3\\x99\\x155@\\xbb\\x...   \n",
       "416049               132  b'\\xb4G\\x9e\\xa6\\xa0\\x18\\x8d\\xee\\xb0\\x15\\x9faK\\...   \n",
       "\n",
       "          number                                        parent_hash    size  \\\n",
       "0       15338009  b'm\\xb0\\x02|\\xa9}\\x84\\xa3\\xdd\\xc1\\x84\\xb6\\xe4\\...   39308   \n",
       "1       15338010  b'\\xf0\\x82\\x95\\x1e@\\xe4by\\xfc,\\x15\\xd6\\xb6xFw\\...   99210   \n",
       "2       15338011  b'\\xdb\\x91:\\xfc8Qk\\xc1c\\x82\\xe2\\xdbA\\xe9b#R\\xe...   13806   \n",
       "3       15338012  b'\\xb0\\x0c2\\x7f$\\xc0\\xec$i\\xbf\\xd9\\xcb\\x13\\x0c...    7824   \n",
       "4       15338013  b\"0\\xbc\\xf0\\xa6\\x89\\xf1w\\x1d\\x9d\\x05\\x1c\\xc8\\x...   16003   \n",
       "...          ...                                                ...     ...   \n",
       "416045  15754054  b'\\x12Y[\\x91y.\\xb8\\xcf\\xd7\\xca\\xb5\\x81\\x87\\x82...   82178   \n",
       "416046  15754055  b'\\xecP\\xf7g\\x08\\xc2\\x19\\x12_\\x0c\\xd8X\\x92\\x9b...  159816   \n",
       "416047  15754056  b'n\\xf2R{ \\xa9t\\xabUD\\xbc\\x8e\\x04B\\x87\\xb3\\t\\x...   71368   \n",
       "416048  15754057  b'\\xb7\\x06\\xba9s\\x7f>p\\xd1\\xa3\\x16\\xb0)Y\\n\\xd4...   56671   \n",
       "416049  15754058  b'\\x86\\xd9n\\xfb+\\x9e\\n\\xbc\\xb3\\x99\\x155@\\xbb\\x...   56908   \n",
       "\n",
       "         timestamp  gas_limit  gas_used     base_fee         difficulty  \\\n",
       "0       1660456780   30000000   9954560   8122412901  12045723921070914   \n",
       "1       1660456787   30000000  22464133   7780903344  12051743061157721   \n",
       "2       1660456811   30000000   3781159   8264884155  12045995859944613   \n",
       "3       1660456814   29970705   1551283   7492197312  12057896966730061   \n",
       "4       1660456819   29941438   3174533   6652621642  12063922050686819   \n",
       "...            ...        ...       ...          ...                ...   \n",
       "416045  1665843383   30000000  18028304  14001417244                  0   \n",
       "416046  1665843395   30000000  29936690  14354755142                  0   \n",
       "416047  1665843407   30000000  14425421  16141526205                  0   \n",
       "416048  1665843419   30000000  11198548  16064238022                  0   \n",
       "416049  1665843431   30000000  10183036  15555342775                  0   \n",
       "\n",
       "               total_difficulty  \n",
       "0       56321843715293942409414  \n",
       "1       56321855767037003567135  \n",
       "2       56321867813032863511748  \n",
       "3       56321879870929830241809  \n",
       "4       56321891934851880928628  \n",
       "...                         ...  \n",
       "416045  58750003716598352816469  \n",
       "416046  58750003716598352816469  \n",
       "416047  58750003716598352816469  \n",
       "416048  58750003716598352816469  \n",
       "416049  58750003716598352816469  \n",
       "\n",
       "[416050 rows x 11 columns]"
      ]
     },
     "execution_count": 76,
     "metadata": {},
     "output_type": "execute_result"
    }
   ],
   "source": [
    "qb"
   ]
  },
  {
   "cell_type": "code",
   "execution_count": null,
   "id": "6d36ab61",
   "metadata": {},
   "outputs": [],
   "source": [
    "# TODO: get txs in each block over last 2 months (since mid Aug to mid October)"
   ]
  },
  {
   "cell_type": "code",
   "execution_count": null,
   "id": "2ae7f250",
   "metadata": {},
   "outputs": [],
   "source": []
  },
  {
   "cell_type": "code",
   "execution_count": null,
   "id": "c475f273",
   "metadata": {},
   "outputs": [],
   "source": []
  }
 ],
 "metadata": {
  "kernelspec": {
   "display_name": "Python 3 (ipykernel)",
   "language": "python",
   "name": "python3"
  },
  "language_info": {
   "codemirror_mode": {
    "name": "ipython",
    "version": 3
   },
   "file_extension": ".py",
   "mimetype": "text/x-python",
   "name": "python",
   "nbconvert_exporter": "python",
   "pygments_lexer": "ipython3",
   "version": "3.10.6"
  }
 },
 "nbformat": 4,
 "nbformat_minor": 5
}
