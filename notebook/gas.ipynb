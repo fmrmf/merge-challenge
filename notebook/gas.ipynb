{
 "cells": [
  {
   "cell_type": "code",
   "execution_count": 2,
   "id": "1132a235",
   "metadata": {},
   "outputs": [],
   "source": [
    "\"\"\"\n",
    "gas.ipynb\n",
    "\n",
    "Goal with this notebook is to continue analysis on the gas\n",
    "market from the end of blocks.ipynb, verifying behavior\n",
    "seen in blocks.ipynb pre-merge.\n",
    "\n",
    "Emphasis is on per block gas utilization (i.e. gas_used / gas_limit)\n",
    "from the introduction of EIP1559 (Aug 2021) to Aug 2022 pre-merge, since\n",
    "blocks.ipynb only analyzes 1 month of data pre-merge.\n",
    "\"\"\"\n",
    "\n",
    "import os\n",
    "import matplotlib.pyplot as plt\n",
    "import numpy as np\n",
    "import pandas as pd\n",
    "import typing as tp\n",
    "\n",
    "from ape import accounts, chain, Contract, networks\n",
    "from pathlib import Path\n",
    "from scipy import stats"
   ]
  },
  {
   "cell_type": "code",
   "execution_count": 3,
   "id": "deded29a",
   "metadata": {},
   "outputs": [
    {
     "data": {
      "text/plain": [
       "<alchemy chain_id=1>"
      ]
     },
     "execution_count": 3,
     "metadata": {},
     "output_type": "execute_result"
    }
   ],
   "source": [
    "# SEE: https://gist.github.com/banteg/dcf6082ff7fc6ad51ce220146f29d9ff\n",
    "networks.parse_network_choice('ethereum:mainnet:alchemy').__enter__()"
   ]
  },
  {
   "cell_type": "code",
   "execution_count": 36,
   "id": "1423b1cc",
   "metadata": {},
   "outputs": [],
   "source": [
    "# some relevant numbers\n",
    "# SEE: https://ethereum.org/en/history/\n",
    "# NOTE: only looking from start 1 month prior to London as care about trends in gas market pre-merge (not post EIP1559)\n",
    "# SEE: https://decentralizedthoughts.github.io/2022-03-10-eip1559/ for transition to EIP1559 (was a good read for empirical/charts)\n",
    "start_block_number = 12765616  # ~ 1 month prior to London\n",
    "london_block_number = 12965000  # EIP1559 introduction (London)\n",
    "end_block_number = 15343216 # ~ start_block_number from blocks.ipynb"
   ]
  },
  {
   "cell_type": "code",
   "execution_count": 39,
   "id": "553493c4",
   "metadata": {},
   "outputs": [],
   "source": [
    "# load EL blocks from csv if already queried, else do the query and save in csv\n",
    "def load_blocks(fp: str, compression: str, start: int, end: int, step: int) -> pd.DataFrame:\n",
    "    if os.path.exists(fp):\n",
    "        return pd.read_csv(fp, compression=compression)\n",
    "    else:\n",
    "        # query blocks over timespan\n",
    "        # chunk via range(start, end, step) to save transactions to temp csv\n",
    "        tmp_fp = str(Path(fp).parent / Path('_tmp_' + Path(fp).name))\n",
    "        is_head = True\n",
    "        for b in range(start, end, step):\n",
    "            qb = chain.blocks.query('*', start_block=b, stop_block=b+step-1)\n",
    "            \n",
    "            # append to temp\n",
    "            qb.to_csv(tmp_fp, mode='a', compression=compression, index=False, header=is_head)\n",
    "            if is_head:\n",
    "                is_head = False\n",
    "\n",
    "        # once done iterating, mv temp to output file and load\n",
    "        os.rename(tmp_fp, fp)\n",
    "        return pd.read_csv(fp, compression=compression)"
   ]
  },
  {
   "cell_type": "code",
   "execution_count": null,
   "id": "b1662528",
   "metadata": {},
   "outputs": [],
   "source": [
    "# get blocks over 1 year prior to EIP1559 intro (from Aug 2021 to Aug 2022)\n",
    "# NOTE: query takes around ~Xh if not from csv\n",
    "step = 7200 # ~ 1d\n",
    "%time qb = load_blocks('./data/gas/blocks.csv', 'gzip', start_block_number, end_block_number, step)"
   ]
  },
  {
   "cell_type": "code",
   "execution_count": null,
   "id": "67f36065",
   "metadata": {},
   "outputs": [],
   "source": []
  }
 ],
 "metadata": {
  "kernelspec": {
   "display_name": "Python 3 (ipykernel)",
   "language": "python",
   "name": "python3"
  },
  "language_info": {
   "codemirror_mode": {
    "name": "ipython",
    "version": 3
   },
   "file_extension": ".py",
   "mimetype": "text/x-python",
   "name": "python",
   "nbconvert_exporter": "python",
   "pygments_lexer": "ipython3",
   "version": "3.10.8"
  }
 },
 "nbformat": 4,
 "nbformat_minor": 5
}
